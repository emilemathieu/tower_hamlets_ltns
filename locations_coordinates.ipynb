{
 "cells": [
  {
   "cell_type": "code",
   "execution_count": 4,
   "metadata": {},
   "outputs": [
    {
     "data": {
      "text/plain": [
       "(46.754711, 38.034164)"
      ]
     },
     "execution_count": 4,
     "metadata": {},
     "output_type": "execute_result"
    }
   ],
   "source": [
    "import pandas\n",
    "from bng_latlon import OSGB36toWGS84\n",
    "OSGB36toWGS84(538890, 177320)"
   ]
  },
  {
   "cell_type": "code",
   "execution_count": 1,
   "metadata": {},
   "outputs": [
    {
     "name": "stderr",
     "output_type": "stream",
     "text": [
      "WARNING: Package(s) not found: bng-latlon\n"
     ]
    }
   ],
   "source": [
    "!pip show bng-latlon"
   ]
  },
  {
   "cell_type": "code",
   "execution_count": 2,
   "metadata": {},
   "outputs": [
    {
     "name": "stdout",
     "output_type": "stream",
     "text": [
      "Collecting bng-latlon\n",
      "  Using cached bng_latlon-1.1.tar.gz (6.1 kB)\n",
      "Building wheels for collected packages: bng-latlon\n",
      "  Building wheel for bng-latlon (setup.py): started\n",
      "  Building wheel for bng-latlon (setup.py): finished with status 'done'\n",
      "  Created wheel for bng-latlon: filename=bng_latlon-1.1-py3-none-any.whl size=8274 sha256=939d8851eb7ac5e3678737eb094b1ccd4df77e328f3108feed08d74b9019c283\n",
      "  Stored in directory: c:\\users\\34658\\appdata\\local\\pip\\cache\\wheels\\3d\\44\\5e\\af72e713638861fde010fcd677285c63dc45c4ec67df80121c\n",
      "Successfully built bng-latlon\n",
      "Installing collected packages: bng-latlon\n",
      "Successfully installed bng-latlon-1.1\n"
     ]
    }
   ],
   "source": [
    "!pip install bng-latlon"
   ]
  }
 ],
 "metadata": {
  "kernelspec": {
   "display_name": "base",
   "language": "python",
   "name": "python3"
  },
  "language_info": {
   "codemirror_mode": {
    "name": "ipython",
    "version": 3
   },
   "file_extension": ".py",
   "mimetype": "text/x-python",
   "name": "python",
   "nbconvert_exporter": "python",
   "pygments_lexer": "ipython3",
   "version": "3.9.7"
  },
  "orig_nbformat": 4,
  "vscode": {
   "interpreter": {
    "hash": "ec65136072c6cbf3e182d150842de0df7d7f9ee1578980a2e2df09c261e5fed3"
   }
  }
 },
 "nbformat": 4,
 "nbformat_minor": 2
}
