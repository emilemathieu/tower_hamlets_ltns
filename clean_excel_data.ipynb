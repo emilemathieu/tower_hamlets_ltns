{
 "cells": [
  {
   "cell_type": "code",
   "execution_count": null,
   "metadata": {},
   "outputs": [],
   "source": [
    "import pandas as pd\n",
    "import numpy as np\n",
    "import glob\n"
   ]
  },
  {
   "cell_type": "code",
   "execution_count": null,
   "metadata": {},
   "outputs": [],
   "source": []
  },
  {
   "cell_type": "code",
   "execution_count": null,
   "metadata": {},
   "outputs": [],
   "source": [
    "years = list(range(2015,2022+1))\n",
    "appended_data = pd.DataFrame()\n",
    "\n",
    "for y in years:\n",
    "    df_years = pd.read_csv('data/Data_NO2/'+ str(y) + '.csv')\n",
    "    df_years = df_years.drop(columns=['Site no','Grid squaresX', 'Grid squaresY', 'Site Type'])\n",
    "    df_years = (df_years.set_index(['Location'])\n",
    "            .stack()\n",
    "            .reset_index(name='Value')\n",
    "            .rename(columns={'level_1':'Date'}))\n",
    "    appended_data = appended_data.append(df_years,ignore_index=True)\n"
   ]
  },
  {
   "cell_type": "markdown",
   "metadata": {},
   "source": []
  },
  {
   "cell_type": "code",
   "execution_count": null,
   "metadata": {},
   "outputs": [],
   "source": [
    "# All empty cells will say 'Missing'\n",
    "appended_data = appended_data.replace('','Missing')\n",
    "appended_data = appended_data.replace('missing','Missing')\n",
    "\n",
    "# Check all unique location names to identify issues (e.g. unintended duplicates)\n",
    "unique_names = pd.unique(appended_data['Location'])\n",
    "unique_names = pd.DataFrame(unique_names)\n",
    "unique_names.columns = ['Name']\n",
    "unique_names = unique_names.sort_values('Name')\n",
    "unique_names.to_csv('unique_names.csv')\n",
    "\n",
    "# Create new column to define type of location (inner, boundary, external)\n",
    "appended_data['Type'] = 'to be defined'\n",
    "\n",
    "#Export to csv\n",
    "appended_data.to_csv('test.csv')"
   ]
  },
  {
   "cell_type": "code",
   "execution_count": null,
   "metadata": {},
   "outputs": [],
   "source": []
  },
  {
   "cell_type": "code",
   "execution_count": null,
   "metadata": {},
   "outputs": [],
   "source": []
  }
 ],
 "metadata": {
  "kernelspec": {
   "display_name": "base",
   "language": "python",
   "name": "python3"
  },
  "language_info": {
   "codemirror_mode": {
    "name": "ipython",
    "version": 3
   },
   "file_extension": ".py",
   "mimetype": "text/x-python",
   "name": "python",
   "nbconvert_exporter": "python",
   "pygments_lexer": "ipython3",
   "version": "3.10.6"
  },
  "orig_nbformat": 4,
  "vscode": {
   "interpreter": {
    "hash": "0f1bf6637375df315f71715041c24b75e7f518576aebf7862a870935314706a3"
   }
  }
 },
 "nbformat": 4,
 "nbformat_minor": 2
}
